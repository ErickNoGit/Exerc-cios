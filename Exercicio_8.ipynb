{
  "nbformat": 4,
  "nbformat_minor": 0,
  "metadata": {
    "colab": {
      "provenance": [],
      "authorship_tag": "ABX9TyPG6JLWUHEYiJQlUBpMSYlX",
      "include_colab_link": true
    },
    "kernelspec": {
      "name": "python3",
      "display_name": "Python 3"
    },
    "language_info": {
      "name": "python"
    }
  },
  "cells": [
    {
      "cell_type": "markdown",
      "metadata": {
        "id": "view-in-github",
        "colab_type": "text"
      },
      "source": [
        "<a href=\"https://colab.research.google.com/github/ErickNoGit/Exerc-cios/blob/main/Exercicio_8.ipynb\" target=\"_parent\"><img src=\"https://colab.research.google.com/assets/colab-badge.svg\" alt=\"Open In Colab\"/></a>"
      ]
    },
    {
      "cell_type": "markdown",
      "source": [
        "# **NumPy: array com linspace**"
      ],
      "metadata": {
        "id": "vxFs-hSjG8MF"
      }
    },
    {
      "cell_type": "markdown",
      "source": [
        "***Arange***"
      ],
      "metadata": {
        "id": "eckB2SBbIAhr"
      }
    },
    {
      "cell_type": "code",
      "execution_count": 7,
      "metadata": {
        "id": "5b1Dn89_G3Pm"
      },
      "outputs": [],
      "source": [
        "import numpy as np\n",
        "array1 = np.arange(10)"
      ]
    },
    {
      "cell_type": "code",
      "source": [
        "array2 = np.arange(10, 20)"
      ],
      "metadata": {
        "id": "Htia2heUHLXR"
      },
      "execution_count": 8,
      "outputs": []
    },
    {
      "cell_type": "code",
      "source": [
        "array3 = np.arange(10, 20, 2)"
      ],
      "metadata": {
        "id": "nyNAYTrQHhon"
      },
      "execution_count": 9,
      "outputs": []
    },
    {
      "cell_type": "code",
      "source": [
        "array4 = np.arange(10, 20, 1.4)"
      ],
      "metadata": {
        "id": "McFvnx_gHqrB"
      },
      "execution_count": 10,
      "outputs": []
    },
    {
      "cell_type": "markdown",
      "source": [
        "***Linspace***"
      ],
      "metadata": {
        "id": "NUjdXzgRIDGK"
      }
    },
    {
      "cell_type": "code",
      "source": [
        "array5 = np.linspace(10, 20, 11)\n",
        "#10, 11, ..., 20(11 elementos)\n",
        "print(array5)"
      ],
      "metadata": {
        "colab": {
          "base_uri": "https://localhost:8080/"
        },
        "id": "za70IHULHvte",
        "outputId": "e0c17b61-0ac7-40c9-cb57-67be2e7b1e70"
      },
      "execution_count": 11,
      "outputs": [
        {
          "output_type": "stream",
          "name": "stdout",
          "text": [
            "[10. 11. 12. 13. 14. 15. 16. 17. 18. 19. 20.]\n"
          ]
        }
      ]
    },
    {
      "cell_type": "code",
      "source": [
        "array6 = np.linspace(10, 20, 101)\n",
        "#10, 10.1, ..., 20, (101 elementos)\n",
        "print(array6)"
      ],
      "metadata": {
        "colab": {
          "base_uri": "https://localhost:8080/"
        },
        "id": "3fL3GUIzIb2a",
        "outputId": "c2322951-1d81-4041-9473-ca37a04af756"
      },
      "execution_count": 17,
      "outputs": [
        {
          "output_type": "stream",
          "name": "stdout",
          "text": [
            "[10.  10.1 10.2 10.3 10.4 10.5 10.6 10.7 10.8 10.9 11.  11.1 11.2 11.3\n",
            " 11.4 11.5 11.6 11.7 11.8 11.9 12.  12.1 12.2 12.3 12.4 12.5 12.6 12.7\n",
            " 12.8 12.9 13.  13.1 13.2 13.3 13.4 13.5 13.6 13.7 13.8 13.9 14.  14.1\n",
            " 14.2 14.3 14.4 14.5 14.6 14.7 14.8 14.9 15.  15.1 15.2 15.3 15.4 15.5\n",
            " 15.6 15.7 15.8 15.9 16.  16.1 16.2 16.3 16.4 16.5 16.6 16.7 16.8 16.9\n",
            " 17.  17.1 17.2 17.3 17.4 17.5 17.6 17.7 17.8 17.9 18.  18.1 18.2 18.3\n",
            " 18.4 18.5 18.6 18.7 18.8 18.9 19.  19.1 19.2 19.3 19.4 19.5 19.6 19.7\n",
            " 19.8 19.9 20. ]\n"
          ]
        }
      ]
    },
    {
      "cell_type": "code",
      "source": [
        "array7 = np.linspace(10, np.pi, 100)\n",
        "#de 0 até pi, 100 elementos\n",
        "print(array7)"
      ],
      "metadata": {
        "colab": {
          "base_uri": "https://localhost:8080/"
        },
        "id": "jSV1YewlIpFg",
        "outputId": "492d1ef2-56ef-4b34-c195-c40f36962dcf"
      },
      "execution_count": 18,
      "outputs": [
        {
          "output_type": "stream",
          "name": "stdout",
          "text": [
            "[10.          9.93072316  9.86144632  9.79216947  9.72289263  9.65361579\n",
            "  9.58433895  9.51506211  9.44578526  9.37650842  9.30723158  9.23795474\n",
            "  9.1686779   9.09940106  9.03012421  8.96084737  8.89157053  8.82229369\n",
            "  8.75301685  8.68374     8.61446316  8.54518632  8.47590948  8.40663264\n",
            "  8.33735579  8.26807895  8.19880211  8.12952527  8.06024843  7.99097159\n",
            "  7.92169474  7.8524179   7.78314106  7.71386422  7.64458738  7.57531053\n",
            "  7.50603369  7.43675685  7.36748001  7.29820317  7.22892632  7.15964948\n",
            "  7.09037264  7.0210958   6.95181896  6.88254212  6.81326527  6.74398843\n",
            "  6.67471159  6.60543475  6.53615791  6.46688106  6.39760422  6.32832738\n",
            "  6.25905054  6.1897737   6.12049685  6.05122001  5.98194317  5.91266633\n",
            "  5.84338949  5.77411265  5.7048358   5.63555896  5.56628212  5.49700528\n",
            "  5.42772844  5.35845159  5.28917475  5.21989791  5.15062107  5.08134423\n",
            "  5.01206738  4.94279054  4.8735137   4.80423686  4.73496002  4.66568318\n",
            "  4.59640633  4.52712949  4.45785265  4.38857581  4.31929897  4.25002212\n",
            "  4.18074528  4.11146844  4.0421916   3.97291476  3.90363791  3.83436107\n",
            "  3.76508423  3.69580739  3.62653055  3.5572537   3.48797686  3.41870002\n",
            "  3.34942318  3.28014634  3.2108695   3.14159265]\n"
          ]
        }
      ]
    },
    {
      "cell_type": "markdown",
      "source": [
        "# **NumPy: matrizes**"
      ],
      "metadata": {
        "id": "OJLd6ShOTE8h"
      }
    },
    {
      "cell_type": "code",
      "source": [
        "minhaMatriz = np.array([[1, 2, 3],\n",
        "                        [4, 5, 6]])"
      ],
      "metadata": {
        "id": "zS4V1mnpKSkJ"
      },
      "execution_count": 19,
      "outputs": []
    },
    {
      "cell_type": "code",
      "source": [
        "minhaMatriz"
      ],
      "metadata": {
        "colab": {
          "base_uri": "https://localhost:8080/"
        },
        "id": "Yo5ljb87KtmB",
        "outputId": "5645293b-d56d-411c-f2af-a75d1f74c565"
      },
      "execution_count": 20,
      "outputs": [
        {
          "output_type": "execute_result",
          "data": {
            "text/plain": [
              "array([[1, 2, 3],\n",
              "       [4, 5, 6]])"
            ]
          },
          "metadata": {},
          "execution_count": 20
        }
      ]
    },
    {
      "cell_type": "markdown",
      "source": [
        "***Podemos criar uma matriz a partir de uma lista:***"
      ],
      "metadata": {
        "id": "_1kcE18jLDZC"
      }
    },
    {
      "cell_type": "code",
      "source": [
        "minhaLista = [[13, 81, 22], [0, 34, 59], [21, 48, 94]]"
      ],
      "metadata": {
        "id": "mHfmclHmKwQr"
      },
      "execution_count": 21,
      "outputs": []
    },
    {
      "cell_type": "markdown",
      "source": [
        "***Agora usaremos np.matrix***"
      ],
      "metadata": {
        "id": "CdHCDGS5LYsa"
      }
    },
    {
      "cell_type": "code",
      "source": [
        "minhaMatriz = np.matrix(minhaLista)\n",
        "minhaMatriz"
      ],
      "metadata": {
        "colab": {
          "base_uri": "https://localhost:8080/"
        },
        "id": "4mUlo8YrLUaL",
        "outputId": "8f98ff50-4c06-495c-8e01-51a6eb0b8b0c"
      },
      "execution_count": 22,
      "outputs": [
        {
          "output_type": "execute_result",
          "data": {
            "text/plain": [
              "matrix([[13, 81, 22],\n",
              "        [ 0, 34, 59],\n",
              "        [21, 48, 94]])"
            ]
          },
          "metadata": {},
          "execution_count": 22
        }
      ]
    },
    {
      "cell_type": "markdown",
      "source": [
        "***np.zeros: pode formar vetores e matrizes***"
      ],
      "metadata": {
        "id": "fj99N55wMNYI"
      }
    },
    {
      "cell_type": "code",
      "source": [
        "# VETOR\n",
        "x = np.zeros(3)\n",
        "x"
      ],
      "metadata": {
        "colab": {
          "base_uri": "https://localhost:8080/"
        },
        "id": "rpGMJGduLpf0",
        "outputId": "d1cac41f-6da0-4404-c8be-0ca2084c7046"
      },
      "execution_count": 26,
      "outputs": [
        {
          "output_type": "execute_result",
          "data": {
            "text/plain": [
              "array([0., 0., 0.])"
            ]
          },
          "metadata": {},
          "execution_count": 26
        }
      ]
    },
    {
      "cell_type": "code",
      "source": [
        "# MATRIZ (x e y, linhas e colunas)\n",
        "x = np.zeros((3, 2))\n",
        "x"
      ],
      "metadata": {
        "colab": {
          "base_uri": "https://localhost:8080/"
        },
        "id": "Y4XDywBEL2ZC",
        "outputId": "23253eb7-a483-4f0a-f581-2f0dd0e2a61a"
      },
      "execution_count": 29,
      "outputs": [
        {
          "output_type": "execute_result",
          "data": {
            "text/plain": [
              "array([[0., 0.],\n",
              "       [0., 0.],\n",
              "       [0., 0.]])"
            ]
          },
          "metadata": {},
          "execution_count": 29
        }
      ]
    },
    {
      "cell_type": "markdown",
      "source": [
        "***Sem armazenar em variáveis***"
      ],
      "metadata": {
        "id": "-F_1NkzkM-Dq"
      }
    },
    {
      "cell_type": "code",
      "source": [
        "# VETOR\n",
        "print(np.zeros(3))"
      ],
      "metadata": {
        "colab": {
          "base_uri": "https://localhost:8080/"
        },
        "id": "nKNyQMW3MiZ4",
        "outputId": "3a5ca0f7-f40f-4d3a-8c56-854f7417c523"
      },
      "execution_count": 32,
      "outputs": [
        {
          "output_type": "stream",
          "name": "stdout",
          "text": [
            "[0. 0. 0.]\n"
          ]
        }
      ]
    },
    {
      "cell_type": "code",
      "source": [
        "# MATRIZ\n",
        "print(np.zeros((3, 2)))"
      ],
      "metadata": {
        "colab": {
          "base_uri": "https://localhost:8080/"
        },
        "id": "ICQMDN8jNJ-h",
        "outputId": "b800c87b-039c-4d5d-a74d-fd6eaa0dd5f5"
      },
      "execution_count": 31,
      "outputs": [
        {
          "output_type": "stream",
          "name": "stdout",
          "text": [
            "[[0. 0.]\n",
            " [0. 0.]\n",
            " [0. 0.]]\n"
          ]
        }
      ]
    },
    {
      "cell_type": "markdown",
      "source": [
        "***np.ones***"
      ],
      "metadata": {
        "id": "2FwTtMNWNlx_"
      }
    },
    {
      "cell_type": "code",
      "source": [
        "x = np.ones((5,3))\n",
        "x"
      ],
      "metadata": {
        "colab": {
          "base_uri": "https://localhost:8080/"
        },
        "id": "lbjCCMyjNV8Y",
        "outputId": "d29f8a7e-34e6-42f2-f905-62c3d8d472a7"
      },
      "execution_count": 33,
      "outputs": [
        {
          "output_type": "execute_result",
          "data": {
            "text/plain": [
              "array([[1., 1., 1.],\n",
              "       [1., 1., 1.],\n",
              "       [1., 1., 1.],\n",
              "       [1., 1., 1.],\n",
              "       [1., 1., 1.]])"
            ]
          },
          "metadata": {},
          "execution_count": 33
        }
      ]
    },
    {
      "cell_type": "code",
      "source": [
        "y = np.ones(5)\n",
        "y"
      ],
      "metadata": {
        "colab": {
          "base_uri": "https://localhost:8080/"
        },
        "id": "uYGnsbnNNx9g",
        "outputId": "7bbfc49f-01b5-4cbf-c8b3-224c7b233f7e"
      },
      "execution_count": 34,
      "outputs": [
        {
          "output_type": "execute_result",
          "data": {
            "text/plain": [
              "array([1., 1., 1., 1., 1.])"
            ]
          },
          "metadata": {},
          "execution_count": 34
        }
      ]
    },
    {
      "cell_type": "markdown",
      "source": [
        "### **Desafio: como obter uma matriz 4x4 apenas com números 8?**"
      ],
      "metadata": {
        "id": "s5rOiqH5ONfe"
      }
    },
    {
      "cell_type": "code",
      "source": [
        "x = np.full((4,4), 8)\n",
        "x"
      ],
      "metadata": {
        "colab": {
          "base_uri": "https://localhost:8080/"
        },
        "id": "Z53ehiR7OKcl",
        "outputId": "115fd2ec-8fa0-42ba-85c3-b25135c9be2f"
      },
      "execution_count": 45,
      "outputs": [
        {
          "output_type": "execute_result",
          "data": {
            "text/plain": [
              "array([[8, 8, 8, 8],\n",
              "       [8, 8, 8, 8],\n",
              "       [8, 8, 8, 8],\n",
              "       [8, 8, 8, 8]])"
            ]
          },
          "metadata": {},
          "execution_count": 45
        }
      ]
    },
    {
      "cell_type": "markdown",
      "source": [
        "***np.diag para formar matrizes***"
      ],
      "metadata": {
        "id": "WSn5wAQ2RSBG"
      }
    },
    {
      "cell_type": "code",
      "source": [
        "z = np.diag(np.array([1, 2, 3, 4, 5, 6]))\n",
        "#os valores passados como parâmetro formam uma diagonal\n",
        "z"
      ],
      "metadata": {
        "colab": {
          "base_uri": "https://localhost:8080/"
        },
        "id": "1zrazrz_Oztc",
        "outputId": "1cb20428-fab2-4b8b-82bd-9bd94ac550a4"
      },
      "execution_count": 49,
      "outputs": [
        {
          "output_type": "execute_result",
          "data": {
            "text/plain": [
              "array([[1, 0, 0, 0, 0, 0],\n",
              "       [0, 2, 0, 0, 0, 0],\n",
              "       [0, 0, 3, 0, 0, 0],\n",
              "       [0, 0, 0, 4, 0, 0],\n",
              "       [0, 0, 0, 0, 5, 0],\n",
              "       [0, 0, 0, 0, 0, 6]])"
            ]
          },
          "metadata": {},
          "execution_count": 49
        }
      ]
    },
    {
      "cell_type": "markdown",
      "source": [
        "***np.eye para formar matrizes***"
      ],
      "metadata": {
        "id": "Ti7ZmEFVSOjO"
      }
    },
    {
      "cell_type": "code",
      "source": [
        "y = np.eye(5)\n",
        "#5 linhas e 5 colunas de 1 em diagonal no float\n",
        "y"
      ],
      "metadata": {
        "colab": {
          "base_uri": "https://localhost:8080/"
        },
        "id": "j8VC-iPhR9ne",
        "outputId": "32d1bf68-6cce-4084-dfe9-f7f222e1f261"
      },
      "execution_count": 51,
      "outputs": [
        {
          "output_type": "execute_result",
          "data": {
            "text/plain": [
              "array([[1., 0., 0., 0., 0.],\n",
              "       [0., 1., 0., 0., 0.],\n",
              "       [0., 0., 1., 0., 0.],\n",
              "       [0., 0., 0., 1., 0.],\n",
              "       [0., 0., 0., 0., 1.]])"
            ]
          },
          "metadata": {},
          "execution_count": 51
        }
      ]
    },
    {
      "cell_type": "code",
      "source": [
        "y = np.eye(5, dtype= int)\n",
        "#mesmo formato, porém com inteiros\n",
        "y"
      ],
      "metadata": {
        "colab": {
          "base_uri": "https://localhost:8080/"
        },
        "id": "x27UPXOQSUQL",
        "outputId": "3b3623ad-6b3a-4ae6-c7ab-20ed0359065b"
      },
      "execution_count": 53,
      "outputs": [
        {
          "output_type": "execute_result",
          "data": {
            "text/plain": [
              "array([[1, 0, 0, 0, 0],\n",
              "       [0, 1, 0, 0, 0],\n",
              "       [0, 0, 1, 0, 0],\n",
              "       [0, 0, 0, 1, 0],\n",
              "       [0, 0, 0, 0, 1]])"
            ]
          },
          "metadata": {},
          "execution_count": 53
        }
      ]
    },
    {
      "cell_type": "markdown",
      "source": [
        "# **NumPy: shape**"
      ],
      "metadata": {
        "id": "euyVcLnWTQF6"
      }
    },
    {
      "cell_type": "code",
      "source": [
        "np.shape(minhaMatriz)"
      ],
      "metadata": {
        "colab": {
          "base_uri": "https://localhost:8080/"
        },
        "id": "tePmLnEPTPo0",
        "outputId": "1efaf8da-86fd-40f6-e154-26ac782dbd35"
      },
      "execution_count": 54,
      "outputs": [
        {
          "output_type": "execute_result",
          "data": {
            "text/plain": [
              "(3, 3)"
            ]
          },
          "metadata": {},
          "execution_count": 54
        }
      ]
    },
    {
      "cell_type": "code",
      "source": [
        "minhaMatriz.shape"
      ],
      "metadata": {
        "colab": {
          "base_uri": "https://localhost:8080/"
        },
        "id": "mOZaypgySq4o",
        "outputId": "ee002248-42dd-4200-b158-b28139730f6f"
      },
      "execution_count": 55,
      "outputs": [
        {
          "output_type": "execute_result",
          "data": {
            "text/plain": [
              "(3, 3)"
            ]
          },
          "metadata": {},
          "execution_count": 55
        }
      ]
    },
    {
      "cell_type": "markdown",
      "source": [
        "# **NumPy: tipo**"
      ],
      "metadata": {
        "id": "vlLfZwKmToWu"
      }
    },
    {
      "cell_type": "code",
      "source": [
        "type(minhaMatriz)"
      ],
      "metadata": {
        "colab": {
          "base_uri": "https://localhost:8080/"
        },
        "id": "I74MggieTlv-",
        "outputId": "e193b2b6-466c-49fe-c857-b919a3e74914"
      },
      "execution_count": 56,
      "outputs": [
        {
          "output_type": "execute_result",
          "data": {
            "text/plain": [
              "numpy.matrix"
            ]
          },
          "metadata": {},
          "execution_count": 56
        }
      ]
    },
    {
      "cell_type": "code",
      "source": [
        "minhaMatriz.dtype"
      ],
      "metadata": {
        "colab": {
          "base_uri": "https://localhost:8080/"
        },
        "id": "kUK3VsfcTuvO",
        "outputId": "a68e5b38-e10b-437f-cd87-6f71f1ccf57a"
      },
      "execution_count": 57,
      "outputs": [
        {
          "output_type": "execute_result",
          "data": {
            "text/plain": [
              "dtype('int64')"
            ]
          },
          "metadata": {},
          "execution_count": 57
        }
      ]
    },
    {
      "cell_type": "markdown",
      "source": [
        "# **NumPy: matrizes selecionando elementos**"
      ],
      "metadata": {
        "id": "C5BmtnckT6Th"
      }
    },
    {
      "cell_type": "code",
      "source": [
        "minhaMatriz[2, 1]"
      ],
      "metadata": {
        "colab": {
          "base_uri": "https://localhost:8080/"
        },
        "id": "jOjznseqTz4-",
        "outputId": "6e031fbd-5840-4537-d223-b4f3d612bd8a"
      },
      "execution_count": 58,
      "outputs": [
        {
          "output_type": "execute_result",
          "data": {
            "text/plain": [
              "48"
            ]
          },
          "metadata": {},
          "execution_count": 58
        }
      ]
    },
    {
      "cell_type": "code",
      "source": [
        "print(minhaMatriz[0,:])"
      ],
      "metadata": {
        "colab": {
          "base_uri": "https://localhost:8080/"
        },
        "id": "pjGpAHEjUWWO",
        "outputId": "5e62abcd-0cdf-47a5-924b-b37affa5253c"
      },
      "execution_count": 60,
      "outputs": [
        {
          "output_type": "stream",
          "name": "stdout",
          "text": [
            "[[13 81 22]]\n"
          ]
        }
      ]
    },
    {
      "cell_type": "code",
      "source": [
        "print(minhaMatriz[:,2])"
      ],
      "metadata": {
        "colab": {
          "base_uri": "https://localhost:8080/"
        },
        "id": "ocr8MAb9UeuC",
        "outputId": "e3b2e8f3-b67b-4107-8e26-d91dadd22ef3"
      },
      "execution_count": 61,
      "outputs": [
        {
          "output_type": "stream",
          "name": "stdout",
          "text": [
            "[[22]\n",
            " [59]\n",
            " [94]]\n"
          ]
        }
      ]
    },
    {
      "cell_type": "code",
      "source": [
        "minhaMatriz[1,0] = 100\n",
        "minhaMatriz"
      ],
      "metadata": {
        "colab": {
          "base_uri": "https://localhost:8080/"
        },
        "id": "mGIUWKffUz1y",
        "outputId": "da3a3667-9fc3-4744-b0f9-d550dedc4aa4"
      },
      "execution_count": 62,
      "outputs": [
        {
          "output_type": "execute_result",
          "data": {
            "text/plain": [
              "matrix([[ 13,  81,  22],\n",
              "        [100,  34,  59],\n",
              "        [ 21,  48,  94]])"
            ]
          },
          "metadata": {},
          "execution_count": 62
        }
      ]
    },
    {
      "cell_type": "markdown",
      "source": [
        "# **NumPy: operações básicas**"
      ],
      "metadata": {
        "id": "-sA5_M-1VXtv"
      }
    },
    {
      "cell_type": "code",
      "source": [
        "#Obtendo a soma dos valores do array:\n",
        "meuArray = [array1, array2]\n",
        "np.sum(meuArray)"
      ],
      "metadata": {
        "colab": {
          "base_uri": "https://localhost:8080/"
        },
        "id": "_9sIQjW-VPwg",
        "outputId": "ff6c7f5b-3c58-4d06-ae81-600eddd3a37b"
      },
      "execution_count": 65,
      "outputs": [
        {
          "output_type": "execute_result",
          "data": {
            "text/plain": [
              "190"
            ]
          },
          "metadata": {},
          "execution_count": 65
        }
      ]
    },
    {
      "cell_type": "code",
      "source": [
        "#Obtendo o produto:\n",
        "np.prod(meuArray)"
      ],
      "metadata": {
        "colab": {
          "base_uri": "https://localhost:8080/"
        },
        "id": "DL9bVU9aVghC",
        "outputId": "4d9bf8af-6543-4901-e81f-5ec7f256dbd6"
      },
      "execution_count": 66,
      "outputs": [
        {
          "output_type": "execute_result",
          "data": {
            "text/plain": [
              "0"
            ]
          },
          "metadata": {},
          "execution_count": 66
        }
      ]
    },
    {
      "cell_type": "code",
      "source": [
        "#Obtendo a soma acumulada:\n",
        "np.cumsum(meuArray)"
      ],
      "metadata": {
        "colab": {
          "base_uri": "https://localhost:8080/"
        },
        "id": "2F4qgYGyWVg8",
        "outputId": "630343f8-75ef-4fc9-8b90-9728c58e26fd"
      },
      "execution_count": 67,
      "outputs": [
        {
          "output_type": "execute_result",
          "data": {
            "text/plain": [
              "array([  0,   1,   3,   6,  10,  15,  21,  28,  36,  45,  55,  66,  78,\n",
              "        91, 105, 120, 136, 153, 171, 190])"
            ]
          },
          "metadata": {},
          "execution_count": 67
        }
      ]
    },
    {
      "cell_type": "code",
      "source": [
        "#Obtendo o valor mínimo do array:\n",
        "array1.min()"
      ],
      "metadata": {
        "colab": {
          "base_uri": "https://localhost:8080/"
        },
        "id": "6___Qw1cWkDQ",
        "outputId": "20a3e5d5-ec26-4c4c-a995-ce0683f1965f"
      },
      "execution_count": 72,
      "outputs": [
        {
          "output_type": "execute_result",
          "data": {
            "text/plain": [
              "0"
            ]
          },
          "metadata": {},
          "execution_count": 72
        }
      ]
    },
    {
      "cell_type": "code",
      "source": [
        "#Obtendo o valor máximo:\n",
        "array1.max()"
      ],
      "metadata": {
        "colab": {
          "base_uri": "https://localhost:8080/"
        },
        "id": "7kBSrwfhXDNw",
        "outputId": "97af4337-c222-4eaf-c3b4-181a7666e263"
      },
      "execution_count": 73,
      "outputs": [
        {
          "output_type": "execute_result",
          "data": {
            "text/plain": [
              "9"
            ]
          },
          "metadata": {},
          "execution_count": 73
        }
      ]
    },
    {
      "cell_type": "markdown",
      "source": [
        "# **NumPy: operações com estatística básica**"
      ],
      "metadata": {
        "id": "P-0ssyCdXfD-"
      }
    },
    {
      "cell_type": "code",
      "source": [
        "#Obtendo a média dos valores do array:\n",
        "np.mean(meuArray)"
      ],
      "metadata": {
        "colab": {
          "base_uri": "https://localhost:8080/"
        },
        "id": "NKQXaXnBXcid",
        "outputId": "7cd7c68c-84d6-4b63-8b83-7ea148fc12bb"
      },
      "execution_count": 74,
      "outputs": [
        {
          "output_type": "execute_result",
          "data": {
            "text/plain": [
              "9.5"
            ]
          },
          "metadata": {},
          "execution_count": 74
        }
      ]
    },
    {
      "cell_type": "code",
      "source": [
        "#Obtendo a mediana:\n",
        "np.median(meuArray)"
      ],
      "metadata": {
        "colab": {
          "base_uri": "https://localhost:8080/"
        },
        "id": "kFxKUpuVXsvG",
        "outputId": "2d0c87b8-16cd-4f95-db96-9d7d81525be7"
      },
      "execution_count": 75,
      "outputs": [
        {
          "output_type": "execute_result",
          "data": {
            "text/plain": [
              "9.5"
            ]
          },
          "metadata": {},
          "execution_count": 75
        }
      ]
    },
    {
      "cell_type": "code",
      "source": [
        "#Obtendo a variância dos valores:\n",
        "np.var(meuArray)"
      ],
      "metadata": {
        "colab": {
          "base_uri": "https://localhost:8080/"
        },
        "id": "Qi_FcbI7X6of",
        "outputId": "4cec8ba0-9e0a-4b2a-873f-f3b31dd61fdf"
      },
      "execution_count": 76,
      "outputs": [
        {
          "output_type": "execute_result",
          "data": {
            "text/plain": [
              "33.25"
            ]
          },
          "metadata": {},
          "execution_count": 76
        }
      ]
    },
    {
      "cell_type": "code",
      "source": [
        "#Obtendo o desvio padrão dos valores:\n",
        "np.std(meuArray)"
      ],
      "metadata": {
        "colab": {
          "base_uri": "https://localhost:8080/"
        },
        "id": "tOL1SoqNX6SR",
        "outputId": "830cf3f0-fdd1-4020-a1c2-c66d31df36ee"
      },
      "execution_count": 77,
      "outputs": [
        {
          "output_type": "execute_result",
          "data": {
            "text/plain": [
              "5.766281297335398"
            ]
          },
          "metadata": {},
          "execution_count": 77
        }
      ]
    },
    {
      "cell_type": "markdown",
      "source": [
        "# **NumPy: matrizes**"
      ],
      "metadata": {
        "id": "8J-34KnqYNbg"
      }
    },
    {
      "cell_type": "code",
      "source": [
        "\"\"\"\n",
        "Desafio\n",
        "Criar um array unidimensional usando arange com 20 elementos;\n",
        "● “Varrer” o array para obter os pares;\n",
        "● “Varrer” o array para obter os ímpares;\n",
        "● Obter a média, a soma, o produto, a variância e o desvio padrão\n",
        "do array.\n",
        "● Saber se os valores são maiores que 5;\n",
        "● Obter os valores maiores que 5.\n",
        "\"\"\"\n",
        "arrayX = np.arange(20)\n",
        "print(\"pares:\",arrayX[::2])\n",
        "print(\"ímpares:\",arrayX[1::2])\n",
        "print(\"média:\",np.mean(arrayX))\n",
        "print(\"soma:\",np.sum(arrayX))\n",
        "print(\"produto:\",np.prod(arrayX))\n",
        "print(\"variância:\",np.var(arrayX))\n",
        "print(\"desvio:\",np.std(arrayX))\n",
        "print(arrayX > 5)\n",
        "print(arrayX[6:])"
      ],
      "metadata": {
        "colab": {
          "base_uri": "https://localhost:8080/"
        },
        "id": "DV2JE7IFYRnS",
        "outputId": "0530fe8b-9e2b-4725-bb44-f9aa912b5403"
      },
      "execution_count": 90,
      "outputs": [
        {
          "output_type": "stream",
          "name": "stdout",
          "text": [
            "pares: [ 0  2  4  6  8 10 12 14 16 18]\n",
            "ímpares: [ 1  3  5  7  9 11 13 15 17 19]\n",
            "média: 9.5\n",
            "soma: 190\n",
            "produto: 0\n",
            "variância: 33.25\n",
            "desvio: 5.766281297335398\n",
            "[False False False False False False  True  True  True  True  True  True\n",
            "  True  True  True  True  True  True  True  True]\n",
            "[ 6  7  8  9 10 11 12 13 14 15 16 17 18 19]\n"
          ]
        }
      ]
    },
    {
      "cell_type": "code",
      "source": [],
      "metadata": {
        "id": "b5xaJ9EPY056"
      },
      "execution_count": null,
      "outputs": []
    }
  ]
}