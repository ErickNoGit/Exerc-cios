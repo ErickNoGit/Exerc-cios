{
  "nbformat": 4,
  "nbformat_minor": 0,
  "metadata": {
    "colab": {
      "provenance": [],
      "authorship_tag": "ABX9TyPFP3drJingvL6Y4Z2Cx+FM",
      "include_colab_link": true
    },
    "kernelspec": {
      "name": "python3",
      "display_name": "Python 3"
    },
    "language_info": {
      "name": "python"
    }
  },
  "cells": [
    {
      "cell_type": "markdown",
      "metadata": {
        "id": "view-in-github",
        "colab_type": "text"
      },
      "source": [
        "<a href=\"https://colab.research.google.com/github/ErickNoGit/Exerc-cios/blob/main/Exercicio_4.ipynb\" target=\"_parent\"><img src=\"https://colab.research.google.com/assets/colab-badge.svg\" alt=\"Open In Colab\"/></a>"
      ]
    },
    {
      "cell_type": "markdown",
      "source": [
        "Prática: for, while, enumerate e assuntos anteriores"
      ],
      "metadata": {
        "id": "Mntbw7v-RGar"
      }
    },
    {
      "cell_type": "markdown",
      "source": [
        "1. Crie uma variável chamada contador = 0. Enquanto\n",
        "counter for menor que 100, imprima os valores na tela."
      ],
      "metadata": {
        "id": "YWrYISEcRWiC"
      }
    },
    {
      "cell_type": "code",
      "execution_count": null,
      "metadata": {
        "id": "zIz7VYbwQNLu"
      },
      "outputs": [],
      "source": [
        "contador = 0\n",
        "\n",
        "while contador < 100:\n",
        "  print(contador)\n",
        "  contador +=1 #coloquei pra parar"
      ]
    },
    {
      "cell_type": "markdown",
      "source": [
        "2. Crie uma lista vazia e uma variável com valor 4.\n",
        "Enquanto o valor da variável for menor ou igual a 20,\n",
        "adicione à lista, apenas os valores pares e imprima a lista."
      ],
      "metadata": {
        "id": "3i6DgccjSDFk"
      }
    },
    {
      "cell_type": "code",
      "source": [
        "lista = []\n",
        "valor = 4\n",
        "while valor <= 20:\n",
        "  lista.append(valor)\n",
        "  valor += 2\n",
        "print(lista)"
      ],
      "metadata": {
        "id": "ADzBIpJxSFqT"
      },
      "execution_count": null,
      "outputs": []
    },
    {
      "cell_type": "markdown",
      "source": [
        "3. Faça a correção dos erros no código abaixo e execute o\n",
        "programa"
      ],
      "metadata": {
        "id": "n8gpjrIxVAE3"
      }
    },
    {
      "cell_type": "code",
      "source": [
        "#temperatura = ﬂoat(input(Qual a temperatura? ))\n",
        "#if temperatura > 30\n",
        "#print('Vista roupas leves.')\n",
        "#else\n",
        "#print('Busque seus casacos.')"
      ],
      "metadata": {
        "id": "osYvjG8wSyDJ"
      },
      "execution_count": null,
      "outputs": []
    },
    {
      "cell_type": "markdown",
      "source": [
        "correção"
      ],
      "metadata": {
        "id": "gsotFjjKVGsv"
      }
    },
    {
      "cell_type": "code",
      "source": [
        "temperatura = ﬂoat(input('Qual a temperatura? '))\n",
        "if temperatura > 30:\n",
        "  print('Vista roupas leves.')\n",
        "else:\n",
        "  print('Busque seus casacos.')"
      ],
      "metadata": {
        "id": "Z5fisnPSVLDC"
      },
      "execution_count": null,
      "outputs": []
    },
    {
      "cell_type": "markdown",
      "source": [
        "4. Faça um programa que conte quantas vezes a letra \"s\"\n",
        "aparece na frase abaixo.\n",
        "“'Educação não transforma o mundo. Educação muda\n",
        "pessoas. Pessoas transformam o mundo.\" (Paulo Freire)"
      ],
      "metadata": {
        "id": "lb--st0TVpoA"
      }
    },
    {
      "cell_type": "code",
      "source": [
        "lista = 'Educação não transforma o mundo. Educação muda pessoas. Pessoas transformam o mundo'\n",
        "print(lista.count('s'))"
      ],
      "metadata": {
        "colab": {
          "base_uri": "https://localhost:8080/"
        },
        "id": "7n86GbesVvNH",
        "outputId": "9b819da3-4d88-4613-a157-c6e4f8e5c51b"
      },
      "execution_count": 41,
      "outputs": [
        {
          "output_type": "stream",
          "name": "stdout",
          "text": [
            "8\n"
          ]
        }
      ]
    },
    {
      "cell_type": "markdown",
      "source": [
        "5. Faça um programa que conte quantas vezes a letra \"s\"\n",
        "aparece na frase abaixo.\n",
        "“'Educação não transforma o mundo. Educação muda\n",
        "pessoas. Pessoas transformam o mundo.\" (Paulo Freire)"
      ],
      "metadata": {
        "id": "40PJhtfHi-jm"
      }
    },
    {
      "cell_type": "code",
      "source": [
        "lista = 'Educação não transforma o mundo. Educação muda pessoas. Pessoas transformam o mundo'\n",
        "print(lista.count('s'))"
      ],
      "metadata": {
        "colab": {
          "base_uri": "https://localhost:8080/"
        },
        "id": "JGPZVbUiXJDk",
        "outputId": "0fa9e111-a0c4-48f8-b84f-af6cc02f593a"
      },
      "execution_count": 42,
      "outputs": [
        {
          "output_type": "stream",
          "name": "stdout",
          "text": [
            "8\n"
          ]
        }
      ]
    },
    {
      "cell_type": "markdown",
      "source": [
        "6. Considere a lista abaixo e retorne apenas os elementos\n",
        "cujo índice for maior que 5.\n",
        "lista = ['a', 'b', 'c', 'd', 'e', 'f', 'g', 'h']"
      ],
      "metadata": {
        "id": "9ZRHIbTKjCw2"
      }
    },
    {
      "cell_type": "code",
      "source": [
        "lista = ['a', 'b', 'c', 'd', 'e', 'f', 'g', 'h']\n",
        "print(lista[6:])"
      ],
      "metadata": {
        "colab": {
          "base_uri": "https://localhost:8080/"
        },
        "id": "XoRtn1jRh-lJ",
        "outputId": "54ad1236-b64b-4fbd-ae2f-4c3023440130"
      },
      "execution_count": 44,
      "outputs": [
        {
          "output_type": "stream",
          "name": "stdout",
          "text": [
            "['g', 'h']\n"
          ]
        }
      ]
    },
    {
      "cell_type": "markdown",
      "source": [
        "7. Crie um terceiro dicionário com as chaves do dicionário 1\n",
        "e os valores do dicionário 2 abaixo.\n",
        "dict1 = {'a':1,'b':2} dict2 = {'c':4,'d':5}"
      ],
      "metadata": {
        "id": "YZxRerspjcYY"
      }
    },
    {
      "cell_type": "code",
      "source": [
        "dict1 = {'a': 1, 'b': 2}\n",
        "dict2 = {'c': 4, 'd': 5}\n",
        "print(dict(dict1, **dict2))"
      ],
      "metadata": {
        "colab": {
          "base_uri": "https://localhost:8080/"
        },
        "id": "icJDFY31jRdp",
        "outputId": "a337fa45-da1e-48ca-f856-f5c8c9d7a10b"
      },
      "execution_count": 47,
      "outputs": [
        {
          "output_type": "stream",
          "name": "stdout",
          "text": [
            "{'a': 1, 'b': 2, 'c': 4, 'd': 5}\n"
          ]
        }
      ]
    },
    {
      "cell_type": "markdown",
      "source": [
        "8.\n"
      ],
      "metadata": {
        "id": "kyMtAFW6nAzj"
      }
    },
    {
      "cell_type": "code",
      "source": [
        "for um_valor in range(10):\n",
        "  print(um_valor)"
      ],
      "metadata": {
        "colab": {
          "base_uri": "https://localhost:8080/"
        },
        "id": "EnsRwRdzkGND",
        "outputId": "12862021-bd0a-4d95-9d42-15cb4297f0aa"
      },
      "execution_count": 48,
      "outputs": [
        {
          "output_type": "stream",
          "name": "stdout",
          "text": [
            "0\n",
            "1\n",
            "2\n",
            "3\n",
            "4\n",
            "5\n",
            "6\n",
            "7\n",
            "8\n",
            "9\n"
          ]
        }
      ]
    },
    {
      "cell_type": "markdown",
      "source": [
        "9.\n"
      ],
      "metadata": {
        "id": "e_fn2mEZnGMP"
      }
    },
    {
      "cell_type": "code",
      "source": [
        "for um_char in \"Venha para a festa\":\n",
        "  print(um_char)"
      ],
      "metadata": {
        "colab": {
          "base_uri": "https://localhost:8080/"
        },
        "id": "4TvcnV5knHXB",
        "outputId": "5a22165d-ba85-4b20-f466-1280cc4f9ba9"
      },
      "execution_count": 49,
      "outputs": [
        {
          "output_type": "stream",
          "name": "stdout",
          "text": [
            "V\n",
            "e\n",
            "n\n",
            "h\n",
            "a\n",
            " \n",
            "p\n",
            "a\n",
            "r\n",
            "a\n",
            " \n",
            "a\n",
            " \n",
            "f\n",
            "e\n",
            "s\n",
            "t\n",
            "a\n"
          ]
        }
      ]
    },
    {
      "cell_type": "code",
      "source": [],
      "metadata": {
        "id": "aVsirnvnnLP5"
      },
      "execution_count": null,
      "outputs": []
    }
  ]
}