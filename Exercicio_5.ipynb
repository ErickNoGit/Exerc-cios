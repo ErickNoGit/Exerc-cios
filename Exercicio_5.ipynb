{
  "nbformat": 4,
  "nbformat_minor": 0,
  "metadata": {
    "colab": {
      "provenance": [],
      "authorship_tag": "ABX9TyMgtD3TgJLY8tEktNc/T9zs",
      "include_colab_link": true
    },
    "kernelspec": {
      "name": "python3",
      "display_name": "Python 3"
    },
    "language_info": {
      "name": "python"
    }
  },
  "cells": [
    {
      "cell_type": "markdown",
      "metadata": {
        "id": "view-in-github",
        "colab_type": "text"
      },
      "source": [
        "<a href=\"https://colab.research.google.com/github/ErickNoGit/Exerc-cios/blob/main/Exercicio_5.ipynb\" target=\"_parent\"><img src=\"https://colab.research.google.com/assets/colab-badge.svg\" alt=\"Open In Colab\"/></a>"
      ]
    },
    {
      "cell_type": "code",
      "source": [
        "# Definição da classe Pessoa\n",
        "class Pessoa():\n",
        "  def __init__(self, nome, age):\n",
        "    self.nome = nome\n",
        "    self.age = age\n",
        "\n",
        "  def anoNascimento(self):\n",
        "    return 2022 - self.age"
      ],
      "metadata": {
        "id": "ERZlX8R85_8B"
      },
      "execution_count": 21,
      "outputs": []
    },
    {
      "cell_type": "code",
      "source": [
        "# Armazena pessoas numa lista\n",
        "lista_pessoas = []\n",
        "for i in range(5):\n",
        "  print('='*25)\n",
        "  print('Pessoa %d' %(i+1))\n",
        "  nome = input('Digite o nome: ')\n",
        "  idade = int(input('Digite a idade: '))\n",
        "  print('='*25)\n",
        "\n",
        "  pessoa = Pessoa(nome, idade)\n",
        "  lista_pessoas.append(pessoa)\n",
        "\n",
        "\n",
        "# Mostrando pessoas\n",
        "print('LISTA PESSOAS'.center(25))\n",
        "print('='*25)\n",
        "for pessoa in lista_pessoas:\n",
        "  print('Nome: %s' %(pessoa.nome))\n",
        "  print('Idade: %d' %(pessoa.age))\n",
        "  print('Ano de Nascimento: %d' %(pessoa.anoNascimento()))\n",
        "  print('='*25)"
      ],
      "metadata": {
        "id": "PEeF8ceO5_vh",
        "outputId": "e104275c-b036-4468-91aa-9cf7ac17fcbc",
        "colab": {
          "base_uri": "https://localhost:8080/"
        }
      },
      "execution_count": 22,
      "outputs": [
        {
          "output_type": "stream",
          "name": "stdout",
          "text": [
            "=========================\n",
            "Pessoa 1\n",
            "Digite o nome: Luna\n",
            "Digite a idade: 13\n",
            "=========================\n",
            "=========================\n",
            "Pessoa 2\n",
            "Digite o nome: erick\n",
            "Digite a idade: 22\n",
            "=========================\n",
            "=========================\n",
            "Pessoa 3\n",
            "Digite o nome: Thiago\n",
            "Digite a idade: 33\n",
            "=========================\n",
            "=========================\n",
            "Pessoa 4\n",
            "Digite o nome: Cezar\n",
            "Digite a idade: 90\n",
            "=========================\n",
            "=========================\n",
            "Pessoa 5\n",
            "Digite o nome: Maria\n",
            "Digite a idade: 54\n",
            "=========================\n",
            "      LISTA PESSOAS      \n",
            "=========================\n",
            "Nome: Luna\n",
            "Idade: 13\n",
            "Ano de Nascimento: 2009\n",
            "=========================\n",
            "Nome: erick\n",
            "Idade: 22\n",
            "Ano de Nascimento: 2000\n",
            "=========================\n",
            "Nome: Thiago\n",
            "Idade: 33\n",
            "Ano de Nascimento: 1989\n",
            "=========================\n",
            "Nome: Cezar\n",
            "Idade: 90\n",
            "Ano de Nascimento: 1932\n",
            "=========================\n",
            "Nome: Maria\n",
            "Idade: 54\n",
            "Ano de Nascimento: 1968\n",
            "=========================\n"
          ]
        }
      ]
    },
    {
      "cell_type": "markdown",
      "source": [
        "# **Questão 1**"
      ],
      "metadata": {
        "id": "TBLY41iaHLaF"
      }
    },
    {
      "cell_type": "code",
      "execution_count": 23,
      "metadata": {
        "id": "DZa67d-OGpZT"
      },
      "outputs": [],
      "source": [
        "class Pessoa():\n",
        "  def __init__(self, name, age):\n",
        "    self.nome = name\n",
        "    self.idade = age"
      ]
    },
    {
      "cell_type": "code",
      "source": [
        "class PessoaFisica():\n",
        "  def __init__(self, name, age, cpf):\n",
        "    self.nome = name\n",
        "    self.idade = age\n",
        "    self.CPF = cpf"
      ],
      "metadata": {
        "id": "rrXVcatKIdVI"
      },
      "execution_count": 24,
      "outputs": []
    },
    {
      "cell_type": "code",
      "source": [
        "class PessoaJuridica():\n",
        "  def __init__(self, name, age, cnpj):\n",
        "    self.nome = name\n",
        "    self.idade = age\n",
        "    self.CNPJ = cnpj"
      ],
      "metadata": {
        "id": "6j7ZIbdSJAQK"
      },
      "execution_count": 25,
      "outputs": []
    },
    {
      "cell_type": "markdown",
      "source": [
        "# **Questão 2**"
      ],
      "metadata": {
        "id": "rMsqYbwhKsOz"
      }
    },
    {
      "cell_type": "code",
      "source": [
        "class Pessoa():\n",
        "  def __init__(self, name, age):\n",
        "    self.nome = name\n",
        "    self.idade = age\n",
        "  \n",
        "  def apresentacao(self):\n",
        "    print(\"Seja bem-vindo ao SENAC!\")"
      ],
      "metadata": {
        "id": "obTqV3jIJYeB"
      },
      "execution_count": 26,
      "outputs": []
    },
    {
      "cell_type": "code",
      "source": [
        "class PessoaFisica():\n",
        "  def __init__(self, name, age, cpf):\n",
        "    self.nome = name\n",
        "    self.idade = age\n",
        "    self.CPF = cpf\n",
        "  \n",
        "  def apresentacao(self):\n",
        "    print(\"Seja bem-vindo ao SENAC!\")"
      ],
      "metadata": {
        "id": "WHI_OuB-KyQK"
      },
      "execution_count": 27,
      "outputs": []
    },
    {
      "cell_type": "code",
      "source": [
        "class PessoaJuridica():\n",
        "  def __init__(self, name, age, cnpj):\n",
        "    self.nome = name\n",
        "    self.idade = age\n",
        "    self.CNPJ = cnpj\n",
        "  \n",
        "  def apresentacao(self):\n",
        "    print(\"Seja bem-vindo ao SENAC!\")"
      ],
      "metadata": {
        "id": "xjVVHzl4K0Ry"
      },
      "execution_count": 28,
      "outputs": []
    },
    {
      "cell_type": "code",
      "source": [
        "name = str(input(\"Nome: \"))\n",
        "age = int(input(\"Idade: \"))\n",
        "cpf = int(input(\"CPF: \"))\n",
        "serumaninho = Pessoa(name, age)\n",
        "serumaninho.apresentacao()"
      ],
      "metadata": {
        "colab": {
          "base_uri": "https://localhost:8080/"
        },
        "id": "-MRFqyTrK2TL",
        "outputId": "ceaa566c-f7d8-49ba-d51f-a0fe1cd45fdd"
      },
      "execution_count": 29,
      "outputs": [
        {
          "output_type": "stream",
          "name": "stdout",
          "text": [
            "Nome: erick\n",
            "Idade: 22\n",
            "CPF: 12345678900\n",
            "Seja bem-vindo ao SENAC!\n"
          ]
        }
      ]
    },
    {
      "cell_type": "markdown",
      "source": [
        "# **Questão 3**"
      ],
      "metadata": {
        "id": "5yeAhFBgNmhl"
      }
    },
    {
      "cell_type": "code",
      "source": [
        "class PessoaFisica():\n",
        "  def __init__(self, name, age, cpf):\n",
        "    self.nome = name\n",
        "    self.idade = age\n",
        "    self.CPF = cpf\n",
        "  \n",
        "  def apresentacao(self):\n",
        "    print(\"Seja bem-vindo ao SENAC!\")\n",
        "\n",
        "  def ImpostoDeRenda(self, salario):\n",
        "    ir = (salario*1.5) /100\n",
        "    print(\"O IR é : \",ir)\n",
        "    return ir"
      ],
      "metadata": {
        "id": "kU4XuR6ILibU"
      },
      "execution_count": 30,
      "outputs": []
    },
    {
      "cell_type": "code",
      "source": [
        "class PessoaJuridica():\n",
        "  def __init__(self, name, age, cnpj):\n",
        "    self.nome = name\n",
        "    self.idade = age\n",
        "    self.CNPJ = cnpj\n",
        "  \n",
        "  def apresentacao(self):\n",
        "    print(\"Seja bem-vindo ao SENAC!\")\n",
        "\n",
        "  def ImpostoDeRenda(self, salario):\n",
        "    ir = (salario*10) /100\n",
        "    print(\"O IR é : \",ir)\n",
        "    return ir"
      ],
      "metadata": {
        "id": "MnlW2nFAO5oz"
      },
      "execution_count": 31,
      "outputs": []
    },
    {
      "cell_type": "code",
      "source": [
        "salario = float(input(\"Qual o valor do salario ? \\n\"))\n",
        "comunidade = PessoaFisica(name, age, cpf)\n",
        "comunidade.ImpostoDeRenda(salario)"
      ],
      "metadata": {
        "id": "LTZlClfuQbDL",
        "outputId": "7ecffed7-83a5-487c-f1c5-c1b3d2acbb41",
        "colab": {
          "base_uri": "https://localhost:8080/"
        }
      },
      "execution_count": 32,
      "outputs": [
        {
          "output_type": "stream",
          "name": "stdout",
          "text": [
            "Qual o valor do salario ? \n",
            "1234\n",
            "O IR é :  18.51\n"
          ]
        },
        {
          "output_type": "execute_result",
          "data": {
            "text/plain": [
              "18.51"
            ]
          },
          "metadata": {},
          "execution_count": 32
        }
      ]
    },
    {
      "cell_type": "markdown",
      "source": [
        "# **Questão 4**"
      ],
      "metadata": {
        "id": "NfUXybFea2lv"
      }
    },
    {
      "cell_type": "code",
      "source": [
        "class PessoaFisica():\n",
        "  def __init__(self, nome, idade, cpf):\n",
        "    self.nome = nome\n",
        "    self.idade = idade\n",
        "    self.cpf = cpf\n",
        "\n",
        "  def apresentacao(self):\n",
        "    print('%s! Bem vindo ao SENAC!' %(self.nome))\n",
        "\n",
        "  def calculaImpostoDeRenda(self, *salario):\n",
        "    salario = sum(salario)\n",
        "    taxa = 0.15\n",
        "    ir = salario*taxa\n",
        "    print('O valor do imposto de renda é R$%.2f' %(ir))\n",
        "    return ir\n",
        "\n",
        "class PessoaJuridica():\n",
        "  def __init__(self, nome, idade, cnpj):\n",
        "    self.nome = nome\n",
        "    self.idade = idade\n",
        "    self.cnpj = cnpj\n",
        "\n",
        "  def apresentacao(self):\n",
        "    print('%s! Bem vindo ao SENAC!' %(self.nome))\n",
        "\n",
        "  def calculaImpostoDeRenda(self, *salario):\n",
        "    salario = sum(salario)\n",
        "    taxa = 0.10\n",
        "    ir = salario*taxa\n",
        "    print('O valor do imposto de renda é R$%.2f' %(ir))\n",
        "    return ir"
      ],
      "metadata": {
        "id": "ApdYfSjPiJ4H"
      },
      "execution_count": 33,
      "outputs": []
    },
    {
      "cell_type": "markdown",
      "source": [
        "# **Questão 5**"
      ],
      "metadata": {
        "id": "xohhJejf8T4d"
      }
    },
    {
      "cell_type": "code",
      "source": [
        "class PessoaFisica(Pessoa):\n",
        "  def __init__(self, nome, idade, cpf):\n",
        "    super().__init__(nome, idade)\n",
        "    self.cpf = cpf\n",
        "\n",
        "  def calculaImpostoDeRenda(self, *salario):\n",
        "    salario = sum(salario)\n",
        "    taxa = 0.15\n",
        "    ir = salario*taxa\n",
        "    print('O valor do imposto de renda é R$%.2f' %(ir))\n",
        "    return ir\n",
        "    \n",
        "\n",
        "class PessoaJuridica(Pessoa):\n",
        "  def __init__(self, nome, idade, cnpj):\n",
        "    super().__init__(nome, idade)\n",
        "    self.cnpj = cnpj\n",
        "\n",
        "  def calculaImpostoDeRenda(self, *salario):\n",
        "    salario = sum(salario)\n",
        "    taxa = 0.10\n",
        "    ir = salario*taxa\n",
        "    print('O valor do imposto de renda é R$%.2f' %(ir))\n",
        "    return ir"
      ],
      "metadata": {
        "id": "RGnGJgdx5iuf"
      },
      "execution_count": 34,
      "outputs": []
    },
    {
      "cell_type": "markdown",
      "source": [
        "# **Questão 6**"
      ],
      "metadata": {
        "id": "6jJyF2uE8Z8M"
      }
    },
    {
      "cell_type": "code",
      "source": [
        "class PessoaJuridica(Pessoa):\n",
        "  def __init__(self, nome, idade, cnpj):\n",
        "    super().__init__(nome, idade)\n",
        "    self.cnpj = cnpj\n",
        "\n",
        "  def calculaImpostoDeRenda(self, *receita, porteDaEmpresa):\n",
        "    receita = sum(receita)\n",
        "    if porteDaEmpresa == 'pequena': taxa = 0.10 \n",
        "    if porteDaEmpresa == 'media': taxa = 0.15\n",
        "    if porteDaEmpresa == 'grande': taxa = 0.20\n",
        "    ir = receita*taxa\n",
        "    print('O valor do imposto de renda é R$%.2f' %(ir))\n",
        "    return ir"
      ],
      "metadata": {
        "id": "YtAsbmlh8aYQ"
      },
      "execution_count": 35,
      "outputs": []
    },
    {
      "cell_type": "markdown",
      "source": [
        "Questão 7"
      ],
      "metadata": {
        "id": "C9Dc3WrS8drM"
      }
    },
    {
      "cell_type": "code",
      "source": [
        "while True:\n",
        "  print(' PESSOA '.center(45,'='))\n",
        "  nome = input('Digite seu nome: ')\n",
        "  idade = int(input('Digite sua idade: '))\n",
        "\n",
        "  print(' TIPO PESSOA '.center(45,'='))\n",
        "  opcao = int(input('1 - Pessoa Física \\n2 - Pessoa Juridica \\n\\nOpção: '))\n",
        "\n",
        "  if opcao == 1:\n",
        "    print(' PESSOA FÍSICA '.center(45,'='))\n",
        "    cpf = int(input('Digite o CPF: '))\n",
        "    pessoaF = PessoaFisica(nome, idade, cpf)\n",
        "\n",
        "    salario = input('informe o(s) salário(s): ').split(',')\n",
        "    for i, valor in enumerate(salario):\n",
        "      valor = valor.strip()\n",
        "      valor = int(valor)\n",
        "      salario[i] = valor\n",
        "    pessoaF.calculaImpostoDeRenda(*salario)\n",
        "\n",
        "\n",
        "  elif opcao == 2: \n",
        "    print(' PESSOA JURIDICA '.center(45,'='))\n",
        "    cnpj = int(input('Digite o CNPJ'))\n",
        "    pessoaJ = PessoaJuridica(nome, idade, cnpj)\n",
        "\n",
        "    receita = input('Infome o(s) valor(es) de receita(s): ').split(',')\n",
        "    porte_empresa = input('Qual é o porte da empresa? \\n-Pequena \\n-Media \\n-Grande \\nOpção: ').lower()\n",
        "\n",
        "    for i, valor in enumerate(receita):\n",
        "      valor = valor.strip()\n",
        "      valor = int(valor)\n",
        "      receita[i] = valor\n",
        "    pessoaJ.calculaImpostoDeRenda(*receita, porteDaEmpresa = porte_empresa)\n",
        "\n",
        "    sair = input('Sair (S/N)? ').lower()\n",
        "    if sair == 's':\n",
        "      break"
      ],
      "metadata": {
        "id": "T-ZDjg2L8fpx",
        "outputId": "99094217-dcde-492c-cb4b-826b10a3a4f2",
        "colab": {
          "base_uri": "https://localhost:8080/"
        }
      },
      "execution_count": 36,
      "outputs": [
        {
          "name": "stdout",
          "output_type": "stream",
          "text": [
            "=================== PESSOA ==================\n",
            "Digite seu nome: erick\n",
            "Digite sua idade: 22\n",
            "================ TIPO PESSOA ================\n",
            "1 - Pessoa Física \n",
            "2 - Pessoa Juridica \n",
            "\n",
            "Opção: 1\n",
            "=============== PESSOA FÍSICA ===============\n",
            "Digite o CPF: 12345678900\n",
            "informe o(s) salário(s): 1234\n",
            "O valor do imposto de renda é R$185.10\n",
            "=================== PESSOA ==================\n",
            "Digite seu nome: Luana\n",
            "Digite sua idade: 13\n",
            "================ TIPO PESSOA ================\n",
            "1 - Pessoa Física \n",
            "2 - Pessoa Juridica \n",
            "\n",
            "Opção: 2\n",
            "============== PESSOA JURIDICA ==============\n",
            "Digite o CNPJ12345678900\n",
            "Infome o(s) valor(es) de receita(s): 1133455\n",
            "Qual é o porte da empresa? \n",
            "-Pequena \n",
            "-Media \n",
            "-Grande \n",
            "Opção: Pequena\n",
            "O valor do imposto de renda é R$113345.50\n",
            "Sair (S/N)? s\n"
          ]
        }
      ]
    }
  ]
}