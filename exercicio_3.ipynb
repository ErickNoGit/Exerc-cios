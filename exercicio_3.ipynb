{
  "nbformat": 4,
  "nbformat_minor": 0,
  "metadata": {
    "colab": {
      "provenance": [],
      "authorship_tag": "ABX9TyMBHcWacLRN6uSEIGxqLp5+",
      "include_colab_link": true
    },
    "kernelspec": {
      "name": "python3",
      "display_name": "Python 3"
    },
    "language_info": {
      "name": "python"
    }
  },
  "cells": [
    {
      "cell_type": "markdown",
      "metadata": {
        "id": "view-in-github",
        "colab_type": "text"
      },
      "source": [
        "<a href=\"https://colab.research.google.com/github/ErickNoGit/Exerc-cios/blob/main/exercicio_3.ipynb\" target=\"_parent\"><img src=\"https://colab.research.google.com/assets/colab-badge.svg\" alt=\"Open In Colab\"/></a>"
      ]
    },
    {
      "cell_type": "markdown",
      "source": [
        "Lista de exercícios aula 03\n",
        "questão 1"
      ],
      "metadata": {
        "id": "uznatKiEarw6"
      }
    },
    {
      "cell_type": "code",
      "execution_count": 29,
      "metadata": {
        "id": "OtnozkLaaIEo"
      },
      "outputs": [],
      "source": [
        "palavras = ['codigo','linguagem', 'web']\n",
        "numeros = [18, 123]\n",
        "vazia = []\n",
        "lista_mista = ['oi', 2.0, 5*2, [10,20]]"
      ]
    },
    {
      "cell_type": "code",
      "source": [
        "print(numeros)\n",
        "print(lista_mista)\n",
        "nova_lista = [numeros, palavras]\n",
        "print(nova_lista)"
      ],
      "metadata": {
        "colab": {
          "base_uri": "https://localhost:8080/"
        },
        "id": "kt8mc3QHbCXb",
        "outputId": "43f8ebd6-eddf-4456-df3f-12337564d9d4"
      },
      "execution_count": 30,
      "outputs": [
        {
          "output_type": "stream",
          "name": "stdout",
          "text": [
            "[18, 123]\n",
            "['oi', 2.0, 10, [10, 20]]\n",
            "[[18, 123], ['codigo', 'linguagem', 'web']]\n"
          ]
        }
      ]
    },
    {
      "cell_type": "markdown",
      "source": [
        "questão 2\n"
      ],
      "metadata": {
        "id": "a7JYl2r8b3ON"
      }
    },
    {
      "cell_type": "code",
      "source": [
        "uma_lista = ['oi', 2.0, 5, [10, 20]]\n",
        "print(uma_lista)\n",
        "#print(len('spam!', 1, ['bolo', 'bolacha', 'biscoito'], [1, 2, 3]))"
      ],
      "metadata": {
        "colab": {
          "base_uri": "https://localhost:8080/"
        },
        "id": "Il8HInMgbrTO",
        "outputId": "50f6ca00-3da0-4d6b-bbd6-e4427ba46af6"
      },
      "execution_count": 31,
      "outputs": [
        {
          "output_type": "stream",
          "name": "stdout",
          "text": [
            "['oi', 2.0, 5, [10, 20]]\n"
          ]
        }
      ]
    },
    {
      "cell_type": "markdown",
      "source": [
        "questão 3"
      ],
      "metadata": {
        "id": "2pFSK99Qclpq"
      }
    },
    {
      "cell_type": "code",
      "source": [
        "numeros = [18, 424, 86, 13, 66, 8338, 74]\n",
        "print(numeros[2])# print a posição 2\n",
        "print(numeros[9-8])#opere primeiro 9-8 depois emprima resultado\n",
        "print(numeros[-2])#inverta e me de a posição\n",
        "print(numeros[len(numeros)-1])#leia a quantidade va pŕa posição -1"
      ],
      "metadata": {
        "colab": {
          "base_uri": "https://localhost:8080/"
        },
        "id": "_ICljXsucV8W",
        "outputId": "59ad646c-5097-4e78-ae27-69923950a0e7"
      },
      "execution_count": 32,
      "outputs": [
        {
          "output_type": "stream",
          "name": "stdout",
          "text": [
            "86\n",
            "424\n",
            "8338\n",
            "74\n"
          ]
        }
      ]
    },
    {
      "cell_type": "markdown",
      "source": [
        "questão 4"
      ],
      "metadata": {
        "id": "I21gRY7hdIE8"
      }
    },
    {
      "cell_type": "code",
      "source": [
        "uma_lista = [3, 5, 'Cibele', 3.14, False]\n",
        "print(len(uma_lista))\n"
      ],
      "metadata": {
        "colab": {
          "base_uri": "https://localhost:8080/"
        },
        "id": "45JP5mRQc9y5",
        "outputId": "4936575a-b506-4896-a9df-c209abdd8171"
      },
      "execution_count": 33,
      "outputs": [
        {
          "output_type": "stream",
          "name": "stdout",
          "text": [
            "5\n"
          ]
        }
      ]
    },
    {
      "cell_type": "markdown",
      "source": [
        "questão 5"
      ],
      "metadata": {
        "id": "ezJLiDeFda2f"
      }
    },
    {
      "cell_type": "code",
      "source": [
        "uma_lista = [3, 5, 'Cibele', [88, 99, 'Suely'], [],3.14, False]\n",
        "print(len(uma_lista))# len = leia a quantidade e retorne o valor"
      ],
      "metadata": {
        "colab": {
          "base_uri": "https://localhost:8080/"
        },
        "id": "A8ltr75sdTFg",
        "outputId": "5d2b2923-e770-4eff-a2ae-bdb6d00f99bb"
      },
      "execution_count": 34,
      "outputs": [
        {
          "output_type": "stream",
          "name": "stdout",
          "text": [
            "7\n"
          ]
        }
      ]
    },
    {
      "cell_type": "markdown",
      "source": [
        "questão 6"
      ],
      "metadata": {
        "id": "iAYDdDKDduDT"
      }
    },
    {
      "cell_type": "code",
      "source": [
        "uma_lista = [3, 5, 'Cibele', [88, 99, 'Suely'], [], 3.14, False]\n",
        "print(uma_lista[5])"
      ],
      "metadata": {
        "colab": {
          "base_uri": "https://localhost:8080/"
        },
        "id": "W2eMDRuCdrdb",
        "outputId": "7401afa7-7a3d-4e3d-9c28-95e48c27badb"
      },
      "execution_count": 35,
      "outputs": [
        {
          "output_type": "stream",
          "name": "stdout",
          "text": [
            "3.14\n"
          ]
        }
      ]
    },
    {
      "cell_type": "markdown",
      "source": [
        "questão 7"
      ],
      "metadata": {
        "id": "R6iuE3t5eE8z"
      }
    },
    {
      "cell_type": "code",
      "source": [
        "uma_lista = [3, 5, 'Cibele', [88, 99, 'Suely'], [], 3.14, False]\n",
        "print(uma_lista[2].upper())#vá na segunda posição e deixa maiuscula"
      ],
      "metadata": {
        "colab": {
          "base_uri": "https://localhost:8080/"
        },
        "id": "HceRd4RJeCMG",
        "outputId": "535b63ad-335c-4d7a-929b-24e7939f9630"
      },
      "execution_count": 36,
      "outputs": [
        {
          "output_type": "stream",
          "name": "stdout",
          "text": [
            "CIBELE\n"
          ]
        }
      ]
    },
    {
      "cell_type": "markdown",
      "source": [
        "questão 8"
      ],
      "metadata": {
        "id": "k86qNNufeftI"
      }
    },
    {
      "cell_type": "code",
      "source": [
        "uma_lista = [3, 5, 'Cibele', [88, 99, 'Suely'], [], 3.14, False]\n",
        "print(uma_lista[2][0])#vá na posição 2 e puxe 0 caracter, se for int da erro"
      ],
      "metadata": {
        "colab": {
          "base_uri": "https://localhost:8080/"
        },
        "id": "fAwFKWBveZFH",
        "outputId": "ef9e4d7d-fa71-4842-8592-bb71427fbbd3"
      },
      "execution_count": 37,
      "outputs": [
        {
          "output_type": "stream",
          "name": "stdout",
          "text": [
            "C\n"
          ]
        }
      ]
    },
    {
      "cell_type": "markdown",
      "source": [
        "questão 9"
      ],
      "metadata": {
        "id": "v2moEQvEfMKI"
      }
    },
    {
      "cell_type": "code",
      "source": [
        "uma_lista = [3, 5, 'Cibele', [88, 99, 'Suely'], [], 3.14, False]\n",
        "print(3.14 in uma_lista)"
      ],
      "metadata": {
        "colab": {
          "base_uri": "https://localhost:8080/"
        },
        "id": "ncCionq_ewa6",
        "outputId": "c34b2461-a58b-4504-be3e-b79a643fa151"
      },
      "execution_count": 38,
      "outputs": [
        {
          "output_type": "stream",
          "name": "stdout",
          "text": [
            "True\n"
          ]
        }
      ]
    },
    {
      "cell_type": "markdown",
      "source": [
        "questão 10"
      ],
      "metadata": {
        "id": "ldL4aKa3fN50"
      }
    },
    {
      "cell_type": "code",
      "source": [
        "uma_lista = [3, 5, 'Cibele', [88, 99, 'Suely'], [], 3.14, False]\n",
        "print(88 in uma_lista) #in = está em "
      ],
      "metadata": {
        "colab": {
          "base_uri": "https://localhost:8080/"
        },
        "id": "KYeGfMz7fNT7",
        "outputId": "fea5cb57-ea84-4dcc-b286-6cffb04918a2"
      },
      "execution_count": 39,
      "outputs": [
        {
          "output_type": "stream",
          "name": "stdout",
          "text": [
            "False\n"
          ]
        }
      ]
    },
    {
      "cell_type": "markdown",
      "source": [
        "questão 11"
      ],
      "metadata": {
        "id": "gIJ91rz8fVdX"
      }
    },
    {
      "cell_type": "code",
      "source": [
        "uma_lista = [1, 3, 5]\n",
        "outra_lista = [2, 4, 6]\n",
        "print(uma_lista + outra_lista)"
      ],
      "metadata": {
        "colab": {
          "base_uri": "https://localhost:8080/"
        },
        "id": "4zxYipQnfLKm",
        "outputId": "fc03cb84-01b1-4c85-9834-a720b7013e5c"
      },
      "execution_count": 40,
      "outputs": [
        {
          "output_type": "stream",
          "name": "stdout",
          "text": [
            "[1, 3, 5, 2, 4, 6]\n"
          ]
        }
      ]
    },
    {
      "cell_type": "markdown",
      "source": [
        "questão 12\n"
      ],
      "metadata": {
        "id": "ggeOrkOAgsd3"
      }
    },
    {
      "cell_type": "code",
      "source": [
        "uma_lista = [1, 3, 5]\n",
        "print(uma_lista*3)"
      ],
      "metadata": {
        "colab": {
          "base_uri": "https://localhost:8080/"
        },
        "id": "sK2HNylaflbX",
        "outputId": "68601d09-8b7a-412c-b827-39e48e208f96"
      },
      "execution_count": 41,
      "outputs": [
        {
          "output_type": "stream",
          "name": "stdout",
          "text": [
            "[1, 3, 5, 1, 3, 5, 1, 3, 5]\n"
          ]
        }
      ]
    },
    {
      "cell_type": "markdown",
      "source": [
        "questão 13"
      ],
      "metadata": {
        "id": "uOLSMwQQg6Qm"
      }
    },
    {
      "cell_type": "code",
      "source": [
        "uma_lista = [3, 5, 'Cibele', [88, 99, 'Suely'], [], 3.14, False]\n",
        "print(uma_lista[4])"
      ],
      "metadata": {
        "colab": {
          "base_uri": "https://localhost:8080/"
        },
        "id": "0hJvUtydg5jt",
        "outputId": "21e435d4-d283-4103-c4a8-18f4a77a455a"
      },
      "execution_count": 42,
      "outputs": [
        {
          "output_type": "stream",
          "name": "stdout",
          "text": [
            "[]\n"
          ]
        }
      ]
    },
    {
      "cell_type": "markdown",
      "source": [
        "questão 14"
      ],
      "metadata": {
        "id": "gLZtYMd9hQok"
      }
    },
    {
      "cell_type": "code",
      "source": [
        "uma_lista = ['a', 'b', 'c', 'd', 'e', 'f']\n",
        "uma_lista[1:3] = ['x', 'y']\n",
        "print(uma_lista)"
      ],
      "metadata": {
        "colab": {
          "base_uri": "https://localhost:8080/"
        },
        "id": "JYccpxB4hOuC",
        "outputId": "60bbef1e-4479-4441-f3e5-e52614c2a91d"
      },
      "execution_count": 43,
      "outputs": [
        {
          "output_type": "stream",
          "name": "stdout",
          "text": [
            "['a', 'x', 'y', 'd', 'e', 'f']\n"
          ]
        }
      ]
    },
    {
      "cell_type": "markdown",
      "source": [
        "questão 15"
      ],
      "metadata": {
        "id": "PlIN8xc2iMju"
      }
    },
    {
      "cell_type": "code",
      "source": [
        "uma_lista = ['a', 'b', 'c', 'd', 'e', 'f']\n",
        "uma_lista[1:3] = [] #exclusão\n",
        "print(uma_lista)"
      ],
      "metadata": {
        "colab": {
          "base_uri": "https://localhost:8080/"
        },
        "id": "eE3hOx2ShsCl",
        "outputId": "a10efe57-8e8a-480e-fb3f-feab6b239f31"
      },
      "execution_count": 44,
      "outputs": [
        {
          "output_type": "stream",
          "name": "stdout",
          "text": [
            "['a', 'd', 'e', 'f']\n"
          ]
        }
      ]
    },
    {
      "cell_type": "markdown",
      "source": [
        "questão 16"
      ],
      "metadata": {
        "id": "jmejSNwIkEuM"
      }
    },
    {
      "cell_type": "code",
      "source": [
        "uma_lista = ['a', 'd', 'f']\n",
        "uma_lista[1:1] = ['b', 'c']\n",
        "print(uma_lista)\n",
        "uma_lista[4:4] = ['e']\n",
        "print(uma_lista)"
      ],
      "metadata": {
        "id": "Fkz-Xigfigcm",
        "colab": {
          "base_uri": "https://localhost:8080/"
        },
        "outputId": "313248a4-94a4-4e0c-9312-11cf4c1b9c7a"
      },
      "execution_count": 46,
      "outputs": [
        {
          "output_type": "stream",
          "name": "stdout",
          "text": [
            "['a', 'b', 'c', 'd', 'f']\n",
            "['a', 'b', 'c', 'd', 'e', 'f']\n"
          ]
        }
      ]
    },
    {
      "cell_type": "markdown",
      "source": [
        "questão 17"
      ],
      "metadata": {
        "id": "bcGEIEqekxaL"
      }
    },
    {
      "cell_type": "code",
      "source": [
        "uma_lista = [4, 1, 8, 6, 3]\n",
        "uma_lista[2] = True\n",
        "print(uma_lista)"
      ],
      "metadata": {
        "colab": {
          "base_uri": "https://localhost:8080/"
        },
        "id": "64gMq-Zikgnq",
        "outputId": "ade411cc-443b-4483-9955-42320a4b9831"
      },
      "execution_count": 47,
      "outputs": [
        {
          "output_type": "stream",
          "name": "stdout",
          "text": [
            "[4, 1, True, 6, 3]\n"
          ]
        }
      ]
    },
    {
      "cell_type": "markdown",
      "source": [
        "questão 18"
      ],
      "metadata": {
        "id": "6cIf1EvklPpv"
      }
    },
    {
      "cell_type": "code",
      "source": [
        "a = ['uma', 'dois', 'três']\n",
        "del a[1] #del = dele em tal posição\n",
        "print(a)\n",
        "lista = ['a', 'b', 'c', 'd', 'e', 'f']\n",
        "del lista[1:5]# delete da posição um até a 4, a 5 é parede\n",
        "print(lista)"
      ],
      "metadata": {
        "colab": {
          "base_uri": "https://localhost:8080/"
        },
        "id": "H4-6z7j-lI03",
        "outputId": "5ea502dc-9693-4b45-84de-5a0cc1a337a8"
      },
      "execution_count": 51,
      "outputs": [
        {
          "output_type": "stream",
          "name": "stdout",
          "text": [
            "['uma', 'três']\n",
            "['a', 'f']\n"
          ]
        }
      ]
    },
    {
      "cell_type": "markdown",
      "source": [
        "questão 19"
      ],
      "metadata": {
        "id": "Io8R3Jb5l7pU"
      }
    },
    {
      "cell_type": "code",
      "source": [
        "lista_a = [4, 1, 8, 6, 3]\n",
        "lista_b = lista_a\n",
        "lista_b[3] = 22\n",
        "print(lista_a)#lista_a é igual a lista_b, portanto, recebe 22 na posição 3"
      ],
      "metadata": {
        "colab": {
          "base_uri": "https://localhost:8080/"
        },
        "id": "3B5TvsbqlbX7",
        "outputId": "8e6991c1-0b41-4024-f5f0-f5d2869ddbd3"
      },
      "execution_count": 56,
      "outputs": [
        {
          "output_type": "stream",
          "name": "stdout",
          "text": [
            "[4, 1, 8, 22, 3]\n"
          ]
        }
      ]
    },
    {
      "cell_type": "markdown",
      "source": [
        "questão 20"
      ],
      "metadata": {
        "id": "-RwpfNE-mVxT"
      }
    },
    {
      "cell_type": "code",
      "source": [
        "lista_original = [5, 6, 7, 8]\n",
        "print(lista_original*3)\n"
      ],
      "metadata": {
        "colab": {
          "base_uri": "https://localhost:8080/"
        },
        "id": "D_T83Ft9mMpj",
        "outputId": "0d18bc2b-a673-4da7-8bfd-a3bfbc578cf4"
      },
      "execution_count": 59,
      "outputs": [
        {
          "output_type": "stream",
          "name": "stdout",
          "text": [
            "[5, 6, 7, 8, 5, 6, 7, 8, 5, 6, 7, 8]\n"
          ]
        }
      ]
    },
    {
      "cell_type": "markdown",
      "source": [
        "questão 21"
      ],
      "metadata": {
        "id": "Nu3ACbvBnkOJ"
      }
    },
    {
      "cell_type": "code",
      "source": [
        "lista_original = [5, 6, 7, 8]\n",
        "print(lista_original*3)\n",
        "lista_nova = [lista_original]*3\n",
        "print(lista_nova)"
      ],
      "metadata": {
        "colab": {
          "base_uri": "https://localhost:8080/"
        },
        "id": "xu9Wtl0TnLei",
        "outputId": "ef17e86e-78a0-4939-b052-b1ec8fdf80cd"
      },
      "execution_count": 66,
      "outputs": [
        {
          "output_type": "stream",
          "name": "stdout",
          "text": [
            "[5, 6, 7, 8, 5, 6, 7, 8, 5, 6, 7, 8]\n",
            "[[5, 6, 7, 8], [5, 6, 7, 8], [5, 6, 7, 8]]\n"
          ]
        }
      ]
    },
    {
      "cell_type": "markdown",
      "source": [
        "questão 22"
      ],
      "metadata": {
        "id": "NWIQWK96oYgh"
      }
    },
    {
      "cell_type": "code",
      "source": [
        "lista_original = [5, 6, 7, 8]\n",
        "lista_nova = [lista_original]*3\n",
        "print(lista_nova)\n",
        "lista_original[1] = 22\n",
        "print(lista_nova)"
      ],
      "metadata": {
        "colab": {
          "base_uri": "https://localhost:8080/"
        },
        "id": "yYhPAyaln6B3",
        "outputId": "08fd0bd1-f638-459b-af28-a036f9efc047"
      },
      "execution_count": 73,
      "outputs": [
        {
          "output_type": "stream",
          "name": "stdout",
          "text": [
            "[[5, 6, 7, 8], [5, 6, 7, 8], [5, 6, 7, 8]]\n",
            "[[5, 22, 7, 8], [5, 22, 7, 8], [5, 22, 7, 8]]\n"
          ]
        }
      ]
    },
    {
      "cell_type": "markdown",
      "source": [
        "questão 23"
      ],
      "metadata": {
        "id": "XPef_dWxppY1"
      }
    },
    {
      "cell_type": "code",
      "source": [
        "lista_a = [4, 1, 8, 6, 3]\n",
        "lista_b = lista_a*2 #não importa se foi multiplicada se ela está em B\n",
        "lista_b[3] = 35\n",
        "print(lista_a)"
      ],
      "metadata": {
        "colab": {
          "base_uri": "https://localhost:8080/"
        },
        "id": "wvPpqkfpov2-",
        "outputId": "be71cae3-f0c9-4d17-ccc8-0b16c096ee7f"
      },
      "execution_count": 77,
      "outputs": [
        {
          "output_type": "stream",
          "name": "stdout",
          "text": [
            "[4, 1, 8, 6, 3]\n"
          ]
        }
      ]
    },
    {
      "cell_type": "markdown",
      "source": [
        "questão 24"
      ],
      "metadata": {
        "id": "LZq11N_IqaP3"
      }
    },
    {
      "cell_type": "code",
      "source": [
        "lista_a = [4, 1, 8, 6, 3]\n",
        "lista_b = [lista_a]*2\n",
        "lista_a[3] = 35\n",
        "print(lista_b)"
      ],
      "metadata": {
        "colab": {
          "base_uri": "https://localhost:8080/"
        },
        "id": "1WU0q3_XqD7l",
        "outputId": "9e6aeabd-eac3-48b0-bc7c-fcaffbb0d1c5"
      },
      "execution_count": 78,
      "outputs": [
        {
          "output_type": "stream",
          "name": "stdout",
          "text": [
            "[[4, 1, 8, 35, 3], [4, 1, 8, 35, 3]]\n"
          ]
        }
      ]
    },
    {
      "cell_type": "markdown",
      "source": [
        "questão 25"
      ],
      "metadata": {
        "id": "QKECtydnq3BC"
      }
    },
    {
      "cell_type": "code",
      "source": [
        "uma_lista = [4, 1, 8, 6, 3]\n",
        "uma_lista.append(True)# append = adicione ao fim da lista\n",
        "uma_lista.append(False)\n",
        "print(uma_lista)"
      ],
      "metadata": {
        "colab": {
          "base_uri": "https://localhost:8080/"
        },
        "id": "WY3G68XTq0jp",
        "outputId": "46ddf320-6a06-441f-c1dc-16844b0616ed"
      },
      "execution_count": 81,
      "outputs": [
        {
          "output_type": "stream",
          "name": "stdout",
          "text": [
            "[4, 1, 8, 6, 3, True, False]\n"
          ]
        }
      ]
    },
    {
      "cell_type": "markdown",
      "source": [
        "questão 26"
      ],
      "metadata": {
        "id": "pTMtd9g8rUH5"
      }
    },
    {
      "cell_type": "code",
      "source": [
        "uma_lista = [4, 1, 8, 6, 3]\n",
        "uma_lista.insert(2, True)# .insert = torne a colocar na posição e empurre\n",
        "uma_lista.insert(0, False)\n",
        "print(uma_lista)"
      ],
      "metadata": {
        "colab": {
          "base_uri": "https://localhost:8080/"
        },
        "id": "De7zygAErIMd",
        "outputId": "1599bf81-6ceb-4d26-cfae-05a65cf73ea6"
      },
      "execution_count": 83,
      "outputs": [
        {
          "output_type": "stream",
          "name": "stdout",
          "text": [
            "[False, 4, 1, True, 8, 6, 3]\n"
          ]
        }
      ]
    },
    {
      "cell_type": "markdown",
      "source": [
        "questão 27"
      ],
      "metadata": {
        "id": "rA7CIloHsLl_"
      }
    },
    {
      "cell_type": "code",
      "source": [
        "uma_lista = [4, 1, 8, 6, 3]\n",
        "temp = uma_lista.pop(2) #pop = puxe/remova de uma_lista valor e coloquem em temp\n",
        "temp = uma_lista.pop() #pop() = remova o ultimo valor e coloquem em temp\n",
        "print(uma_lista)"
      ],
      "metadata": {
        "colab": {
          "base_uri": "https://localhost:8080/"
        },
        "id": "z4P8wui-r0d3",
        "outputId": "956c2986-2a54-4d77-d1a9-fd6758a20d93"
      },
      "execution_count": 90,
      "outputs": [
        {
          "output_type": "stream",
          "name": "stdout",
          "text": [
            "[4, 1, 6]\n"
          ]
        }
      ]
    },
    {
      "cell_type": "markdown",
      "source": [
        "questão 28"
      ],
      "metadata": {
        "id": "9NR3-Pz0sNNz"
      }
    },
    {
      "cell_type": "code",
      "source": [
        "uma_lista = [4, 1, 8, 6, 3]\n",
        "uma_lista = uma_lista.pop(0)\n",
        "print(uma_lista)"
      ],
      "metadata": {
        "colab": {
          "base_uri": "https://localhost:8080/"
        },
        "id": "uPz6oE7CsLTm",
        "outputId": "15f2408f-63da-4ed9-cad7-6bfcef06b660"
      },
      "execution_count": 93,
      "outputs": [
        {
          "output_type": "stream",
          "name": "stdout",
          "text": [
            "4\n"
          ]
        }
      ]
    }
  ]
}