{
  "nbformat": 4,
  "nbformat_minor": 0,
  "metadata": {
    "colab": {
      "provenance": [],
      "authorship_tag": "ABX9TyOn7XCJB+IEpMhe0hbwQ92s",
      "include_colab_link": true
    },
    "kernelspec": {
      "name": "python3",
      "display_name": "Python 3"
    },
    "language_info": {
      "name": "python"
    }
  },
  "cells": [
    {
      "cell_type": "markdown",
      "metadata": {
        "id": "view-in-github",
        "colab_type": "text"
      },
      "source": [
        "<a href=\"https://colab.research.google.com/github/ErickNoGit/Exerc-cios/blob/main/exercicio_praticos_8.ipynb\" target=\"_parent\"><img src=\"https://colab.research.google.com/assets/colab-badge.svg\" alt=\"Open In Colab\"/></a>"
      ]
    },
    {
      "cell_type": "code",
      "execution_count": 51,
      "metadata": {
        "colab": {
          "base_uri": "https://localhost:8080/"
        },
        "id": "d0BDfldQLvdM",
        "outputId": "16a4927a-5a5e-41f3-b2e5-b13b251b5961"
      },
      "outputs": [
        {
          "output_type": "stream",
          "name": "stdout",
          "text": [
            "Digite um número de saldo médio: \n",
            "50000\n",
            "Seu crédito é de 40%, portanto:  20000\n",
            "total:  70000\n"
          ]
        }
      ],
      "source": [
        "#Saldo Medio\n",
        "#0 a 200 - nenhum crédito\n",
        "#201 a 400 - 20% do valor do saldo médio\n",
        "#401 a 600 - 30% do valor do saldo médio\n",
        "#acima de 601 - 40% do valor do saldo médio\n",
        "saldo_medio = int(input(\"Digite um número de saldo médio: \\n\"))\n",
        "if (saldo_medio == 0 or saldo_medio <= 200):\n",
        "  print(\"Você não tem nenhum crédito! \\n\")\n",
        "elif (saldo_medio == 201 or saldo_medio <= 400):\n",
        "  credito = (saldo_medio*20) // 100\n",
        "  print(\"Seu crédito é de 20%, portanto: \",credito)\n",
        "  print(\"total: \",(saldo_medio + credito))\n",
        "elif (saldo_medio == 401 or saldo_medio <= 600):\n",
        "  credito = (saldo_medio*30) // 100\n",
        "  print(\"Seu crédito é de 30%, portanto: \", credito)\n",
        "  print(\"total: \",(saldo_medio + credito))\n",
        "else:\n",
        "  credito = (saldo_medio*40) // 100\n",
        "  print(\"Seu crédito é de 40%, portanto: \",credito)\n",
        "  print(\"total: \",(saldo_medio + credito))"
      ]
    },
    {
      "cell_type": "code",
      "source": [],
      "metadata": {
        "id": "_3O7exgrRugA"
      },
      "execution_count": 42,
      "outputs": []
    },
    {
      "cell_type": "code",
      "source": [],
      "metadata": {
        "id": "KTSfouYJY_Yr"
      },
      "execution_count": 42,
      "outputs": []
    }
  ]
}