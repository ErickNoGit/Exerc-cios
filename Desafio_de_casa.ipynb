{
  "nbformat": 4,
  "nbformat_minor": 0,
  "metadata": {
    "colab": {
      "provenance": [],
      "authorship_tag": "ABX9TyOhbgxlPv57+Re31pJWN4X7",
      "include_colab_link": true
    },
    "kernelspec": {
      "name": "python3",
      "display_name": "Python 3"
    },
    "language_info": {
      "name": "python"
    }
  },
  "cells": [
    {
      "cell_type": "markdown",
      "metadata": {
        "id": "view-in-github",
        "colab_type": "text"
      },
      "source": [
        "<a href=\"https://colab.research.google.com/github/ErickNoGit/Exerc-cios/blob/main/Desafio_de_casa.ipynb\" target=\"_parent\"><img src=\"https://colab.research.google.com/assets/colab-badge.svg\" alt=\"Open In Colab\"/></a>"
      ]
    },
    {
      "cell_type": "markdown",
      "source": [
        "Desafio de Casa"
      ],
      "metadata": {
        "id": "iLWsbzY6oALw"
      }
    },
    {
      "cell_type": "markdown",
      "source": [
        "questão 1"
      ],
      "metadata": {
        "id": "OTGIMRgwob3o"
      }
    },
    {
      "cell_type": "code",
      "execution_count": null,
      "metadata": {
        "id": "YOzXYginneQm"
      },
      "outputs": [],
      "source": [
        "print('Responda com sim ou não ! \\n')\n",
        "\n",
        "lista = [\"Telefonou para a vítima?\", \"Esteve no local do crime?\", \"Mora perto da vítima?\", \"Devia para a vítima?\", \"Já trabalhou com a vítima?\"]\n",
        "\n",
        "telefonou = input(lista[0])\n",
        "esteve = input(lista[1])\n",
        "mora = input(lista[2])\n",
        "devia = input(lista[3])\n",
        "trabalho = input(lista[4])\n",
        "\n",
        "novaLista = [telefonou, esteve, mora, devia, trabalho]\n",
        "\n",
        "novaLista.count('sim')\n",
        "if novaLista.count('sim') == 0:\n",
        "  print(\"Você é inocente! \\n\")\n",
        "elif novaLista.count('sim') == 2:\n",
        "  print(\"Você é suspeito, em grau 1 \\n\")\n",
        "elif novaLista.count('sim') == 3 or 4:\n",
        "  print(\"Você é suspeito, em grau 2 \\n\")\n",
        "elif novaLista.count('sim') == 5:\n",
        "  print(\"Você é suspeito, em grau 3: Principal suspeito! \\n\")"
      ]
    },
    {
      "cell_type": "markdown",
      "source": [
        "questão 2"
      ],
      "metadata": {
        "id": "P67eMo5KzX30"
      }
    },
    {
      "cell_type": "code",
      "source": [
        "valorLista = [200, 300, 400, 500, 600, 700, 800, 900, 1000]\n",
        "\n",
        "semana = float(input(\"Quanto vendeu na semana ?\"))\n",
        "valor_pago = (semana*9)/100\n",
        "i = 0 \n",
        "while i < 8:\n",
        "  i += 1\n",
        "  print(valor_pago + valorLista[i])"
      ],
      "metadata": {
        "id": "NIpCZ62jzVMp"
      },
      "execution_count": null,
      "outputs": []
    },
    {
      "cell_type": "markdown",
      "source": [
        "questão 3\n"
      ],
      "metadata": {
        "id": "x4DFhgli25St"
      }
    },
    {
      "cell_type": "code",
      "source": [
        "vetor = [1.0, 2.0, 3.0, 4.0, 5.0, 6.0, 7.0, 8.0, 9.0, 10.0]\n",
        "vetor.reverse()\n",
        "print(vetor)"
      ],
      "metadata": {
        "colab": {
          "base_uri": "https://localhost:8080/"
        },
        "id": "agp29aV327Vo",
        "outputId": "24ff2b2e-7970-4a08-b689-edc41226f15f"
      },
      "execution_count": 9,
      "outputs": [
        {
          "output_type": "stream",
          "name": "stdout",
          "text": [
            "[10.0, 9.0, 8.0, 7.0, 6.0, 5.0, 4.0, 3.0, 2.0, 1.0]\n"
          ]
        }
      ]
    },
    {
      "cell_type": "markdown",
      "source": [
        "questão 4\n"
      ],
      "metadata": {
        "id": "AN7pSUlQ475Y"
      }
    },
    {
      "cell_type": "code",
      "source": [
        "ALUNOS = 10\n",
        "NOTAS = 4\n",
        "\n",
        "medias = []\n",
        "media_sete = 0\n",
        "\n",
        "for i in range(ALUNOS):\n",
        "    media = 0\n",
        "    for j in range(NOTAS):\n",
        "        media += float(input(f\"Digite a nota {j+1} do aluno {i+1}: \"))\n",
        "    media /= NOTAS\n",
        "    medias.append(media)\n",
        "    if media >= 7:\n",
        "        media_sete += 1\n",
        "\n",
        "print(\"\\nA média dos alunos foi:\")\n",
        "for i in range(ALUNOS):\n",
        "    print(f\"Aluno {i+1}: {medias[i]}\")\n",
        "\n",
        "print(f\"\\n{media_sete} alunos tiveram média maior ou igual a 7.\")\n"
      ],
      "metadata": {
        "id": "n15Zfa4P3y33"
      },
      "execution_count": null,
      "outputs": []
    }
  ]
}