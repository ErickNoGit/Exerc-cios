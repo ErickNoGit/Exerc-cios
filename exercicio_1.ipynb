{
  "nbformat": 4,
  "nbformat_minor": 0,
  "metadata": {
    "colab": {
      "provenance": []
    },
    "kernelspec": {
      "name": "python3",
      "display_name": "Python 3"
    },
    "language_info": {
      "name": "python"
    }
  },
  "cells": [
    {
      "cell_type": "markdown",
      "source": [
        "questão 1"
      ],
      "metadata": {
        "id": "lSo5G4bLGMK3"
      }
    },
    {
      "cell_type": "code",
      "execution_count": null,
      "metadata": {
        "id": "k34tAekZC9Kq"
      },
      "outputs": [],
      "source": [
        "a=3\n",
        "b=4\n",
        "soma = a + b\n",
        "print(\"A soma de a + b é: soma\")\n",
        "\n",
        "#saída : A soma de a + b é: soma"
      ]
    },
    {
      "cell_type": "markdown",
      "source": [
        "questão 2"
      ],
      "metadata": {
        "id": "W-ZFZE2JGVoG"
      }
    },
    {
      "cell_type": "code",
      "source": [
        "a=3\n",
        "b=4\n",
        "soma = a + b\n",
        "print(\"A soma de a + b é:\", soma)\n",
        "\n",
        "#saída : A soma de a + b é: 7"
      ],
      "metadata": {
        "id": "zeeMZX_vDFRu"
      },
      "execution_count": null,
      "outputs": []
    },
    {
      "cell_type": "markdown",
      "source": [
        "questão 3"
      ],
      "metadata": {
        "id": "Dk-3y7HGGZev"
      }
    },
    {
      "cell_type": "code",
      "source": [
        "a=3\n",
        "b=4\n",
        "soma = a + b\n",
        "print(\"A soma de\", a, \"+\", b, \"é:\", soma)\n",
        "\n",
        "#saída : A soma de 3 + 4 é: 7"
      ],
      "metadata": {
        "id": "CEni571uDFUM"
      },
      "execution_count": null,
      "outputs": []
    },
    {
      "cell_type": "markdown",
      "source": [
        "questão 4"
      ],
      "metadata": {
        "id": "QRD394UgG0N4"
      }
    },
    {
      "cell_type": "code",
      "source": [
        "PROMPT_1 = \"Digite o primeiro numero: \"\n",
        "PROMPT_2 = \"Digite o segundo numero: \"\n",
        "a = input(PROMPT_1)\n",
        "b = input(PROMPT_2)\n",
        "soma = a + b\n",
        "print(\"A soma de\", a, \"+\", b, \"é:\", soma)\n",
        "\n",
        "\"\"\"saída explicada: devido a e b serem variáveis\n",
        "input, que recebem PROMPT_1 e PROMPT_2, a string\n",
        "contida neles é apresentada. Deixando ao usuário\n",
        "os valores númericos. No exemplo: 1 e 3\"\"\"\n",
        "#saída : Digite o primeiro numero: 1\n",
        "# Digite o segundo numero: 3\n",
        "# A soma de 1 + 3 é: 13"
      ],
      "metadata": {
        "id": "Cfp-51VZGpNy"
      },
      "execution_count": null,
      "outputs": []
    },
    {
      "cell_type": "markdown",
      "source": [
        "questão 5"
      ],
      "metadata": {
        "id": "y5CNhxdrG7kH"
      }
    },
    {
      "cell_type": "code",
      "source": [
        "a_str = input(\"Digite o primeiro numero: \")\n",
        "b_str = input(\"Digite o segundo numero: \")\n",
        "a_int = int(a_str) # converte string/texto para inteiro\n",
        "b_int = int(b_str) # converte string/texto para inteiro\n",
        "soma = a_int + b_int\n",
        "print(\"A soma de\", a_int, \"+\", b_int, \"eh igual a\", soma)\n",
        "\n",
        "#saída : Digite o primeiro numero: 1\n",
        "#Digite o segundo numero: 3\n",
        "#A soma de 1 + 3 eh igual a 4"
      ],
      "metadata": {
        "id": "KOryTjlNEJ6A"
      },
      "execution_count": null,
      "outputs": []
    },
    {
      "cell_type": "markdown",
      "source": [
        "questão 6"
      ],
      "metadata": {
        "id": "xqPaOX_BG9Yq"
      }
    },
    {
      "cell_type": "code",
      "source": [
        "a = int(input(\"Digite o primeiro numero: \"))\n",
        "b = int(input(\"Digite o segundo numero: \"))\n",
        "soma = a + b\n",
        "print(\"A soma de\", a, \"+\", b, \"eh igual a\", soma)\n",
        "\n",
        "#ocorre o mesmo da questão 5\n",
        "#saída : Digite o primeiro numero: 1\n",
        "#Digite o segundo numero: 3\n",
        "#A soma de 1 + 3 eh igual a 4"
      ],
      "metadata": {
        "id": "TkufRfcJEKFH"
      },
      "execution_count": null,
      "outputs": []
    }
  ]
}